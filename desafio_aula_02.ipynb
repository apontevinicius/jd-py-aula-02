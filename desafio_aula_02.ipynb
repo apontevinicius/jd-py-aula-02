{
 "cells": [
  {
   "cell_type": "code",
   "execution_count": null,
   "metadata": {},
   "outputs": [
    {
     "name": "stdout",
     "output_type": "stream",
     "text": [
      "could not convert string to float: ''\n"
     ]
    },
    {
     "ename": "NameError",
     "evalue": "name 'result' is not defined",
     "output_type": "error",
     "traceback": [
      "\u001b[1;31m---------------------------------------------------------------------------\u001b[0m",
      "\u001b[1;31mNameError\u001b[0m                                 Traceback (most recent call last)",
      "Cell \u001b[1;32mIn[2], line 10\u001b[0m\n\u001b[0;32m      7\u001b[0m \u001b[38;5;28;01mexcept\u001b[39;00m \u001b[38;5;167;01mValueError\u001b[39;00m \u001b[38;5;28;01mas\u001b[39;00m e:\n\u001b[0;32m      8\u001b[0m     \u001b[38;5;28mprint\u001b[39m(e)\n\u001b[1;32m---> 10\u001b[0m \u001b[38;5;28mprint\u001b[39m(\u001b[43mresult\u001b[49m)\n",
      "\u001b[1;31mNameError\u001b[0m: name 'result' is not defined"
     ]
    }
   ],
   "source": [
    "# Solicita ao usuário que digite seu nome\n",
    "try:\n",
    "    nome = input(\"Digite seu nome: \")\n",
    "\n",
    "    # Verifica se o nome está vazio\n",
    "    if len(nome) == 0:\n",
    "        raise ValueError(\"O nome não pode estar vazio.\")\n",
    "    # Verifica se há números no nome\n",
    "    elif any(char.isdigit() for char in nome):\n",
    "        raise ValueError(\"O nome não deve conter números.\")\n",
    "    else:\n",
    "        print(\"Nome válido:\", nome)\n",
    "except ValueError as e:\n",
    "    print(e)\n",
    "\n",
    "# Solicita ao usuário que digite o valor do seu salário e converte para float\n",
    "\n",
    "try:\n",
    "    salario = float(input(\"Digite o valor do seu salário: \"))\n",
    "    if salario < 0:\n",
    "        print(\"Por favor, digite um valor positivo para o salário.\")\n",
    "except ValueError:\n",
    "    print(\"Entrada inválida para o salário. Por favor, digite um número.\")\n",
    "\n",
    "# Solicita ao usuário que digite o valor do bônus recebido e converte para float\n",
    "try:\n",
    "    bonus_recebido = float(input(\"Digite o valor do bônus recebido: \"))\n",
    "    if bonus_recebido < 0:\n",
    "        print(\"Por favor, digite um valor positivo para o bônus.\")\n",
    "except ValueError:\n",
    "    print(\"Entrada inválida para o bônus. Por favor, digite um número.\")\n",
    "\n",
    "# Assumindo uma lógica de cálculo para o bônus final e KPI\n",
    "bonus_final = bonus_recebido * 1.2  # Exemplo, ajuste conforme necessário\n",
    "kpi = (salario + bonus_final) / 1000  # Exemplo simples de KPI\n",
    "\n",
    "# Imprime as informações para o usuário\n",
    "print(f\"Seu KPI é: {kpi:.2f}\")\n",
    "print(f\"{nome}, seu salário é R${salario:.2f} e seu bônus final é R${bonus_final:.2f}.\")"
   ]
  },
  {
   "cell_type": "code",
   "execution_count": null,
   "metadata": {},
   "outputs": [],
   "source": []
  }
 ],
 "metadata": {
  "kernelspec": {
   "display_name": ".venv",
   "language": "python",
   "name": "python3"
  },
  "language_info": {
   "codemirror_mode": {
    "name": "ipython",
    "version": 3
   },
   "file_extension": ".py",
   "mimetype": "text/x-python",
   "name": "python",
   "nbconvert_exporter": "python",
   "pygments_lexer": "ipython3",
   "version": "3.10.8"
  }
 },
 "nbformat": 4,
 "nbformat_minor": 2
}
