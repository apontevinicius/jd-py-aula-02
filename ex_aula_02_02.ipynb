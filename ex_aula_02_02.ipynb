{
 "cells": [
  {
   "cell_type": "markdown",
   "metadata": {},
   "source": [
    "##### Exercício 21: Conversor de Temperatura\n",
    "Escreva um programa que converta a temperatura de Celsius para Fahrenheit. O programa deve solicitar ao usuário a temperatura em Celsius e, utilizando try-except, garantir que a entrada seja numérica, tratando qualquer ValueError. Imprima o resultado em Fahrenheit ou uma mensagem de erro se a entrada não for válida."
   ]
  },
  {
   "cell_type": "code",
   "execution_count": null,
   "metadata": {},
   "outputs": [
    {
     "name": "stdout",
     "output_type": "stream",
     "text": [
      "38.0ºC convertido para Fahrenheit são 100.4ºF\n"
     ]
    }
   ],
   "source": [
    "try:\n",
    "    celsius = float(input('Digite uma temperatura em Celsius:'))\n",
    "    fahrenheit = celsius * 9 / 5 + 32\n",
    "    print(f'{celsius}ºC são equivalentes a {fahrenheit}ºF')\n",
    "except ValueError as e:\n",
    "    print(e)"
   ]
  },
  {
   "cell_type": "markdown",
   "metadata": {},
   "source": [
    "##### Exercício 22: Verificador de Palíndromo\n",
    "Crie um programa que verifica se uma palavra ou frase é um palíndromo (lê-se igualmente de trás para frente, desconsiderando espaços e pontuações). Utilize try-except para garantir que a entrada seja uma string. Dica: Utilize a função isinstance() para verificar o tipo da entrada."
   ]
  },
  {
   "cell_type": "code",
   "execution_count": null,
   "metadata": {},
   "outputs": [
    {
     "name": "stdout",
     "output_type": "stream",
     "text": [
      "vini é um políndromo, vini é diferente de iniv\n"
     ]
    }
   ],
   "source": [
    "palavra = input('Digite uma palavra: ')\n",
    "\n",
    "if isinstance(palavra, str):\n",
    "    tras_para_frente = palavra[::-1]\n",
    "    if palavra == tras_para_frente:\n",
    "        print(f'{palavra} é um políndromo')\n",
    "    else:\n",
    "        print(f'{palavra} não é um políndromo, {palavra} é diferente de {tras_para_frente}')\n",
    "else:\n",
    "    print('O valor digitado não é do tipo texto')"
   ]
  },
  {
   "cell_type": "markdown",
   "metadata": {},
   "source": [
    "##### Exercício 23: Calculadora Simples\n",
    "Desenvolva uma calculadora simples que aceite duas entradas numéricas e um operador (+, -, *, /) do usuário. Use try-except para lidar com divisões por zero e entradas não numéricas. Utilize if-elif-else para realizar a operação matemática baseada no operador fornecido. Imprima o resultado ou uma mensagem de erro apropriada."
   ]
  },
  {
   "cell_type": "code",
   "execution_count": 15,
   "metadata": {},
   "outputs": [
    {
     "name": "stdout",
     "output_type": "stream",
     "text": [
      "op inválido\n"
     ]
    }
   ],
   "source": [
    "n1 = input('n1: ')\n",
    "n2 = input('n2: ')\n",
    "op = input('op [+, -, /, *]')\n",
    "op_check = ['-','+','/','*']\n",
    "\n",
    "try:\n",
    "    n1 = float(n1)\n",
    "    n2 = float(n2)\n",
    "\n",
    "    if op not in op_check:\n",
    "        print('op inválido')\n",
    "    else:\n",
    "        if op == '+':\n",
    "            r = n1 + n2\n",
    "        elif op == '-':\n",
    "            r = n1 - n2\n",
    "        elif op == '*':\n",
    "            r = n1 * n2\n",
    "        elif op == '/':\n",
    "            r = n1 / n2\n",
    "\n",
    "        print(f'resultado: {r}')\n",
    "        \n",
    "except ValueError as e:\n",
    "    print(e)\n",
    "except ZeroDivisionError as e:\n",
    "    print(e)"
   ]
  },
  {
   "cell_type": "markdown",
   "metadata": {},
   "source": [
    "##### Exercício 24: Classificador de Números\n",
    "Escreva um programa que solicite ao usuário para digitar um número. Utilize try-except para assegurar que a entrada seja numérica e utilize if-elif-else para classificar o número como \"positivo\", \"negativo\" ou \"zero\". Adicionalmente, identifique se o número é \"par\" ou \"ímpar\"."
   ]
  },
  {
   "cell_type": "code",
   "execution_count": null,
   "metadata": {},
   "outputs": [
    {
     "name": "stdout",
     "output_type": "stream",
     "text": [
      "could not convert string to float: 'a'\n"
     ]
    }
   ],
   "source": [
    "n1 = input('Digite um número: ')\n",
    "\n",
    "try:\n",
    "    n1 = float(n1)\n",
    "\n",
    "    if n1 > 0:\n",
    "        r = 'positivo'\n",
    "    elif n1 < 0:\n",
    "        r = 'negativo'\n",
    "    else:\n",
    "        r = '0'\n",
    "\n",
    "    if n1 % 2 == 0:\n",
    "        r2 = 'par'\n",
    "    else:\n",
    "        r2 = 'impar'\n",
    "\n",
    "    print(f'{n1} é {r} e {r2}')\n",
    "except ValueError as e:\n",
    "    print(e)"
   ]
  },
  {
   "cell_type": "markdown",
   "metadata": {},
   "source": [
    "##### Exercício 25: Conversão de Tipo com Validação\n",
    "Crie um script que solicite ao usuário uma lista de números separados por vírgula. O programa deve converter a string de entrada em uma lista de números inteiros. Utilize try-except para tratar a conversão de cada número e validar que cada elemento da lista convertida é um inteiro. Se a conversão falhar ou um elemento não for um inteiro, imprima uma mensagem de erro. Se a conversão for bem-sucedida para todos os elementos, imprima a lista de inteiros."
   ]
  },
  {
   "cell_type": "code",
   "execution_count": null,
   "metadata": {},
   "outputs": [
    {
     "name": "stdout",
     "output_type": "stream",
     "text": [
      "[1, 2, 3, 4]\n"
     ]
    }
   ],
   "source": [
    "list_n = input('Digite uma lista de números separados por ,')\n",
    "list_n = list_n.split(',')\n",
    "list_f = []\n",
    "\n",
    "try:\n",
    "    for i in list_n:\n",
    "        list_f.append(int(i.strip()))\n",
    "\n",
    "    print(list_f)\n",
    "except ValueError as e:\n",
    "    print(e)"
   ]
  }
 ],
 "metadata": {
  "kernelspec": {
   "display_name": ".venv",
   "language": "python",
   "name": "python3"
  },
  "language_info": {
   "codemirror_mode": {
    "name": "ipython",
    "version": 3
   },
   "file_extension": ".py",
   "mimetype": "text/x-python",
   "name": "python",
   "nbconvert_exporter": "python",
   "pygments_lexer": "ipython3",
   "version": "3.10.8"
  }
 },
 "nbformat": 4,
 "nbformat_minor": 2
}
